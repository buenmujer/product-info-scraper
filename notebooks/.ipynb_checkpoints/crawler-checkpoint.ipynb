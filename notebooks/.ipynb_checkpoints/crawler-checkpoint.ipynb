{
 "cells": [
  {
   "cell_type": "markdown",
   "metadata": {},
   "source": [
    "### Import Libraries"
   ]
  },
  {
   "cell_type": "code",
   "execution_count": 1,
   "metadata": {
    "collapsed": false
   },
   "outputs": [],
   "source": [
    "import urllib \n",
    "import urllib2  \n",
    "import lxml.html\n",
    "from bs4 import BeautifulSoup \n",
    "import time\n",
    "from BeautifulSoup import BeautifulSoup, NavigableString, Tag\n",
    "import os\n",
    "import csv\n",
    "import constants"
   ]
  },
  {
   "cell_type": "code",
   "execution_count": null,
   "metadata": {
    "collapsed": false
   },
   "outputs": [],
   "source": [
    "constants.test_product_url\n"
   ]
  },
  {
   "cell_type": "markdown",
   "metadata": {},
   "source": [
    "### Make a list of all the pages on the website with cat food on them (35 total, 24 products on each page)"
   ]
  },
  {
   "cell_type": "code",
   "execution_count": 13,
   "metadata": {
    "collapsed": false
   },
   "outputs": [
    {
     "name": "stdout",
     "output_type": "stream",
     "text": [
      "['http://www.petsmart.com/cat/food-and-health/food/?srule=best-sellers&pmin=0&sz=24&start=0', 'http://www.petsmart.com/cat/food-and-health/food/?srule=best-sellers&pmin=0&sz=24&start=24', 'http://www.petsmart.com/cat/food-and-health/food/?srule=best-sellers&pmin=0&sz=24&start=48', 'http://www.petsmart.com/cat/food-and-health/food/?srule=best-sellers&pmin=0&sz=24&start=72', 'http://www.petsmart.com/cat/food-and-health/food/?srule=best-sellers&pmin=0&sz=24&start=96']\n"
     ]
    }
   ],
   "source": [
    "base_url = \"http://www.petsmart.com/cat/food-and-health/food/?srule=best-sellers&pmin=0&sz=24&start=\"\n",
    "url_list = [\"{}{}\".format(base_url, i) for i in range(0,840,24)]\n",
    "print url_list[0:5]"
   ]
  },
  {
   "cell_type": "code",
   "execution_count": null,
   "metadata": {
    "collapsed": true
   },
   "outputs": [],
   "source": [
    "url_short_list = ['http://www.petsmart.com/cat/food-and-health/food/?srule=best-sellers&pmin=0&sz=24&start=0', 'http://www.petsmart.com/cat/food-and-health/food/?srule=best-sellers&pmin=0&sz=24&start=24']"
   ]
  },
  {
   "cell_type": "markdown",
   "metadata": {},
   "source": [
    "### On each of these pages, gather all links, then filter for only those 24 with the products I want on them"
   ]
  },
  {
   "cell_type": "code",
   "execution_count": 4,
   "metadata": {
    "collapsed": false
   },
   "outputs": [
    {
     "data": {
      "text/plain": [
       "['/dog/food-and-health/food/blue-wilderness-adult-dog-food---grain-free-natural-3290.html?cgid=100004',\n",
       " '/dog/food-and-health/food/blue-life-protection-formula-adult-dog-food---chicken-and-brown-rice-41846.html?cgid=100004',\n",
       " '/dog/food-and-health/food/blue-life-protection-formula-healthy-weight-adult-dog-food---chicken-and-brown-rice-3323.html?cgid=100004',\n",
       " '/dog/food-and-health/food/blue-life-protection-formula-large-breed-adult-dog-food-3299.html?cgid=100004',\n",
       " '/dog/food-and-health/food/authority-large-breed-adult-dog-food---chicken-24453.html?cgid=100004',\n",
       " '/dog/food-and-health/food/blue-basics-adult-dog-food---limited-ingredient-grain-free-turkey-and-potato-3296.html?cgid=100004',\n",
       " '/dog/food-and-health/food/simply-nourishandtrade-adult-dog-food---limited-ingredient-natural-sweet-potato-and-salmon-3186.html?cgid=100004',\n",
       " '/dog/food-and-health/food/simply-nourishandtrade-adult-dog-food---natural-3196.html?cgid=100004',\n",
       " '/dog/food-and-health/food/authority-grain-free-large-breed-adult-dog-food---chicken-and-pea-30428.html?cgid=100004',\n",
       " '/dog/food-and-health/food/purina-pro-plan-shredded-blend-adult-dog-food---chicken-and-rice-3022.html?cgid=100004']"
      ]
     },
     "execution_count": 4,
     "metadata": {},
     "output_type": "execute_result"
    }
   ],
   "source": [
    "#Testing the code before putting it into a function below\n",
    "\n",
    "#url_list = ['http://www.petsmart.com/dog/food-and-health/food/?srule=best-sellers&pmin=0&sz=24&start=0', 'http://www.petsmart.com/dog/food-and-health/food/?srule=best-sellers&pmin=0&sz=24&start=24']\n",
    "#working with this. now testing url_list\n",
    "\n",
    "link_list = []\n",
    "\n",
    "for i in url_list:\n",
    "    try:\n",
    "        http = urllib.urlopen(i)\n",
    "        #time.sleep(2)\n",
    "    except:\n",
    "        print \"couldn't open connection\"\n",
    "    \n",
    "    try:\n",
    "        links = lxml.html.fromstring(http.read()) \n",
    "    except:\n",
    "        print \"couldn't do links step\"\n",
    "    \n",
    "    try:\n",
    "        for link in links.xpath('//a/@href'): # select the url in href for all a tags(links)\n",
    "            if '/dog/food-and-health/food/' in link and '.html?cgid=' in link: \n",
    "                link_list.append(link)\n",
    "    except:\n",
    "        print \"couldn't grab and filter links\"\n",
    "\n",
    "dog_link_list[0:10]"
   ]
  },
  {
   "cell_type": "code",
   "execution_count": 7,
   "metadata": {
    "collapsed": false
   },
   "outputs": [
    {
     "data": {
      "text/plain": [
       "1200"
      ]
     },
     "execution_count": 7,
     "metadata": {},
     "output_type": "execute_result"
    }
   ],
   "source": [
    "#print dog_link_list\n",
    "len(dog_link_list)"
   ]
  },
  {
   "cell_type": "code",
   "execution_count": null,
   "metadata": {
    "collapsed": false
   },
   "outputs": [],
   "source": [
    "# Make a list of all the pages on the website with cat food on them (35 total, \n",
    "# 24 products on each page). Here I'm using the range function to add the \n",
    "# page increments to a base url.\n",
    "\n",
    "url_list = ['{}{}'.format(constants.crawler_base_url, num) for num in range(0,1200,24)]\n",
    "print url_list[0:5]"
   ]
  },
  {
   "cell_type": "code",
   "execution_count": null,
   "metadata": {
    "collapsed": false
   },
   "outputs": [],
   "source": [
    "new_crawler_base_url = \"http://www.petsmart.com\"\n",
    "\n",
    "def crawler(url_list):\n",
    "\n",
    "    '''\n",
    "    This function crawls the Pet Smart website, gathering urls to the product \n",
    "    information pages for cat food. The url list fed into it is a list of all \n",
    "    the pages from the website that result from the searh 'cat food' \n",
    "    (35 total, 24 products on each page).\n",
    "    \n",
    "    Input is the url list of pages with all of the products to browse.\n",
    "    Output is a list of urls to each of those products.\n",
    "    '''\n",
    "    \n",
    "    # On each of the pages fed in, gather all links, then filter for only \n",
    "    # those 24 with the products I want on them\n",
    "    \n",
    "    link_list = []\n",
    "    \n",
    "    #for url in url_list:\n",
    "    for url in url_list:\n",
    "        http = urllib.urlopen(url)\n",
    "        time.sleep(constants.sleep) # This slows down the requests to lessen the chance of \n",
    "        # having my IP address blocked from the website\n",
    "        links = lxml.html.fromstring(http.read()) \n",
    "        print \"still running\"\n",
    "\n",
    "        # This filters all urls by selecting the url in href for the 'a' tags,\n",
    "        # and returns only those with '/cat/food-and-health/food/' and \n",
    "        # '.html?cgid=' in them, which indicate the product pages.\n",
    "        for link in links.xpath('//a/@href'): \n",
    "            if '/dog/food-and-health/food/' in link and '.html?cgid=' in link:\n",
    "                link_list.append(link)\n",
    " \n",
    "    return link_list\n",
    "\n",
    "crawler(url_list)\n",
    "print link_list[0:5]"
   ]
  },
  {
   "cell_type": "markdown",
   "metadata": {},
   "source": [
    "### Combine product listings with base url to get complete list of product urls"
   ]
  },
  {
   "cell_type": "code",
   "execution_count": 8,
   "metadata": {
    "collapsed": false
   },
   "outputs": [
    {
     "name": "stdout",
     "output_type": "stream",
     "text": [
      "['http://www.petsmart.com/dog/food-and-health/food/blue-wilderness-adult-dog-food---grain-free-natural-3290.html?cgid=100004', 'http://www.petsmart.com/dog/food-and-health/food/blue-life-protection-formula-adult-dog-food---chicken-and-brown-rice-41846.html?cgid=100004', 'http://www.petsmart.com/dog/food-and-health/food/blue-life-protection-formula-healthy-weight-adult-dog-food---chicken-and-brown-rice-3323.html?cgid=100004', 'http://www.petsmart.com/dog/food-and-health/food/blue-life-protection-formula-large-breed-adult-dog-food-3299.html?cgid=100004', 'http://www.petsmart.com/dog/food-and-health/food/authority-large-breed-adult-dog-food---chicken-24453.html?cgid=100004', 'http://www.petsmart.com/dog/food-and-health/food/blue-basics-adult-dog-food---limited-ingredient-grain-free-turkey-and-potato-3296.html?cgid=100004', 'http://www.petsmart.com/dog/food-and-health/food/simply-nourishandtrade-adult-dog-food---limited-ingredient-natural-sweet-potato-and-salmon-3186.html?cgid=100004', 'http://www.petsmart.com/dog/food-and-health/food/simply-nourishandtrade-adult-dog-food---natural-3196.html?cgid=100004', 'http://www.petsmart.com/dog/food-and-health/food/authority-grain-free-large-breed-adult-dog-food---chicken-and-pea-30428.html?cgid=100004', 'http://www.petsmart.com/dog/food-and-health/food/purina-pro-plan-shredded-blend-adult-dog-food---chicken-and-rice-3022.html?cgid=100004']\n"
     ]
    }
   ],
   "source": [
    "full_product_list = ['{}{}'.format(constants.new_crawler_base_url, url) for url in dog_link_list]\n",
    "print full_product_list[0:10]"
   ]
  },
  {
   "cell_type": "markdown",
   "metadata": {},
   "source": [
    "### Write the list to a file in case I get blocked from the website later"
   ]
  },
  {
   "cell_type": "code",
   "execution_count": 9,
   "metadata": {
    "collapsed": false
   },
   "outputs": [],
   "source": [
    "def write_file(list):\n",
    "    ### Write the list to a file as a record in case I get blocked from the website later\n",
    "    filename = 'dogfood_url.txt'\n",
    "    fh = open(filename, 'a')\n",
    "    fh.write(str(full_product_list)) \n",
    "    fh.close()\n",
    "\n",
    "write_file(full_product_list)"
   ]
  }
 ],
 "metadata": {
  "anaconda-cloud": {},
  "kernelspec": {
   "display_name": "Python [default]",
   "language": "python",
   "name": "python2"
  },
  "language_info": {
   "codemirror_mode": {
    "name": "ipython",
    "version": 2
   },
   "file_extension": ".py",
   "mimetype": "text/x-python",
   "name": "python",
   "nbconvert_exporter": "python",
   "pygments_lexer": "ipython2",
   "version": "2.7.12"
  }
 },
 "nbformat": 4,
 "nbformat_minor": 1
}
