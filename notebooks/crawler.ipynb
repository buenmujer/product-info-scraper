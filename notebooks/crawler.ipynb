{
 "cells": [
  {
   "cell_type": "markdown",
   "metadata": {},
   "source": [
    "### Import Libraries"
   ]
  },
  {
   "cell_type": "code",
   "execution_count": 1,
   "metadata": {
    "collapsed": false
   },
   "outputs": [],
   "source": [
    "import urllib \n",
    "import urllib2  \n",
    "import lxml.html\n",
    "from bs4 import BeautifulSoup \n",
    "import time\n",
    "from BeautifulSoup import BeautifulSoup, NavigableString, Tag\n",
    "import os\n",
    "import csv\n",
    "import constants"
   ]
  },
  {
   "cell_type": "code",
   "execution_count": null,
   "metadata": {
    "collapsed": false
   },
   "outputs": [],
   "source": [
    "constants.test_product_url\n"
   ]
  },
  {
   "cell_type": "markdown",
   "metadata": {},
   "source": [
    "### Make a list of all the pages on the website with cat food on them (35 total, 24 products on each page)"
   ]
  },
  {
   "cell_type": "code",
   "execution_count": 22,
   "metadata": {
    "collapsed": false
   },
   "outputs": [
    {
     "name": "stdout",
     "output_type": "stream",
     "text": [
      "['http://www.petsmart.com/cat/food-and-health/food/?srule=best-sellers&pmin=0&sz=24&start=0', 'http://www.petsmart.com/cat/food-and-health/food/?srule=best-sellers&pmin=0&sz=24&start=24', 'http://www.petsmart.com/cat/food-and-health/food/?srule=best-sellers&pmin=0&sz=24&start=48', 'http://www.petsmart.com/cat/food-and-health/food/?srule=best-sellers&pmin=0&sz=24&start=72', 'http://www.petsmart.com/cat/food-and-health/food/?srule=best-sellers&pmin=0&sz=24&start=96', 'http://www.petsmart.com/cat/food-and-health/food/?srule=best-sellers&pmin=0&sz=24&start=120', 'http://www.petsmart.com/cat/food-and-health/food/?srule=best-sellers&pmin=0&sz=24&start=144', 'http://www.petsmart.com/cat/food-and-health/food/?srule=best-sellers&pmin=0&sz=24&start=168', 'http://www.petsmart.com/cat/food-and-health/food/?srule=best-sellers&pmin=0&sz=24&start=192', 'http://www.petsmart.com/cat/food-and-health/food/?srule=best-sellers&pmin=0&sz=24&start=216']\n"
     ]
    }
   ],
   "source": [
    "base_url = \"http://www.petsmart.com/cat/food-and-health/food/?srule=best-sellers&pmin=0&sz=24&start=\"\n",
    "url_list = [\"{}{}\".format(base_url, i) for i in range(0,840,24)]\n",
    "print url_list[0:10]"
   ]
  },
  {
   "cell_type": "code",
   "execution_count": 15,
   "metadata": {
    "collapsed": true
   },
   "outputs": [],
   "source": [
    "url_short_list = ['http://www.petsmart.com/cat/food-and-health/food/?srule=best-sellers&pmin=0&sz=24&start=0', 'http://www.petsmart.com/cat/food-and-health/food/?srule=best-sellers&pmin=0&sz=24&start=24']"
   ]
  },
  {
   "cell_type": "markdown",
   "metadata": {},
   "source": [
    "### On each of these pages, gather all links, then filter for only those 24 with the products I want on them"
   ]
  },
  {
   "cell_type": "code",
   "execution_count": 24,
   "metadata": {
    "collapsed": false
   },
   "outputs": [
    {
     "data": {
      "text/plain": [
       "['/cat/food-and-health/food/fancy-feast-classic-adult-cat-food-12865.html?cgid=200004',\n",
       " '/cat/food-and-health/food/purina-friskies-classic-pate-cat-food-1610.html?cgid=200004',\n",
       " '/cat/food-and-health/food/purina-friskies-savory-shreds-cat-food-1547.html?cgid=200004',\n",
       " '/cat/food-and-health/food/fancy-feast-grilled-adult-cat-food-12855.html?cgid=200004',\n",
       " '/cat/food-and-health/food/authority-pate-adult-cat-food-23731.html?cgid=200004',\n",
       " '/cat/food-and-health/food/fancy-feast-gravy-lovers-adult-cat-food-12853.html?cgid=200004',\n",
       " '/cat/food-and-health/food/purina-pro-plan-adult-cat-food-12804.html?cgid=200004',\n",
       " '/cat/food-and-health/food/purina-friskies-prime-filets-cat-food-1510.html?cgid=200004',\n",
       " '/cat/food-and-health/food/wellness-complete-health-cat-food---natural-grain-free-12917.html?cgid=200004',\n",
       " '/cat/food-and-health/food/authority-indoor-adult-cat-food---chicken-and-rice-26335.html?cgid=200004']"
      ]
     },
     "execution_count": 24,
     "metadata": {},
     "output_type": "execute_result"
    }
   ],
   "source": [
    "#Testing the code before putting it into a function below\n",
    "\n",
    "#url_list = ['http://www.petsmart.com/dog/food-and-health/food/?srule=best-sellers&pmin=0&sz=24&start=0', 'http://www.petsmart.com/dog/food-and-health/food/?srule=best-sellers&pmin=0&sz=24&start=24']\n",
    "#working with this. now testing url_list\n",
    "\n",
    "link_list = []\n",
    "\n",
    "for i in url_list:\n",
    "    try:\n",
    "        http = urllib.urlopen(i)\n",
    "        #time.sleep(2)\n",
    "    except:\n",
    "        print \"couldn't open connection\"\n",
    "    \n",
    "    try:\n",
    "        links = lxml.html.fromstring(http.read()) \n",
    "    except:\n",
    "        print \"couldn't do links step\"\n",
    "    \n",
    "    try:\n",
    "        for link in links.xpath('//a/@href'): # select the url in href for all a tags(links)\n",
    "            #print link\n",
    "            if '/cat/food-and-health/food/' in link and '.html?cgid=' in link: \n",
    "                #print link    \n",
    "                link_list.append(link)\n",
    "    except:\n",
    "        print \"couldn't grab and filter links\"\n",
    "\n",
    "link_list[0:10]"
   ]
  },
  {
   "cell_type": "code",
   "execution_count": 26,
   "metadata": {
    "collapsed": false
   },
   "outputs": [
    {
     "data": {
      "text/plain": [
       "836"
      ]
     },
     "execution_count": 26,
     "metadata": {},
     "output_type": "execute_result"
    }
   ],
   "source": [
    "#print dog_link_list\n",
    "len(link_list)"
   ]
  },
  {
   "cell_type": "code",
   "execution_count": null,
   "metadata": {
    "collapsed": false
   },
   "outputs": [],
   "source": [
    "# Make a list of all the pages on the website with cat food on them (35 total, \n",
    "# 24 products on each page). Here I'm using the range function to add the \n",
    "# page increments to a base url.\n",
    "\n",
    "url_list = ['{}{}'.format(constants.crawler_base_url, num) for num in range(0,1200,24)]\n",
    "print url_list[0:5]"
   ]
  },
  {
   "cell_type": "code",
   "execution_count": null,
   "metadata": {
    "collapsed": false
   },
   "outputs": [],
   "source": [
    "new_crawler_base_url = \"http://www.petsmart.com\"\n",
    "\n",
    "def crawler(url_list):\n",
    "\n",
    "    '''\n",
    "    This function crawls the Pet Smart website, gathering urls to the product \n",
    "    information pages for cat food. The url list fed into it is a list of all \n",
    "    the pages from the website that result from the searh 'cat food' \n",
    "    (35 total, 24 products on each page).\n",
    "    \n",
    "    Input is the url list of pages with all of the products to browse.\n",
    "    Output is a list of urls to each of those products.\n",
    "    '''\n",
    "    \n",
    "    # On each of the pages fed in, gather all links, then filter for only \n",
    "    # those 24 with the products I want on them\n",
    "    \n",
    "    link_list = []\n",
    "    \n",
    "    #for url in url_list:\n",
    "    for url in url_list:\n",
    "        http = urllib.urlopen(url)\n",
    "        time.sleep(constants.sleep) # This slows down the requests to lessen the chance of \n",
    "        # having my IP address blocked from the website\n",
    "        links = lxml.html.fromstring(http.read()) \n",
    "        print \"still running\"\n",
    "\n",
    "        # This filters all urls by selecting the url in href for the 'a' tags,\n",
    "        # and returns only those with '/cat/food-and-health/food/' and \n",
    "        # '.html?cgid=' in them, which indicate the product pages.\n",
    "        for link in links.xpath('//a/@href'): \n",
    "            if '/dog/food-and-health/food/' in link and '.html?cgid=' in link:\n",
    "                link_list.append(link)\n",
    " \n",
    "    return link_list\n",
    "\n",
    "crawler(url_list)\n",
    "print link_list[0:5]"
   ]
  },
  {
   "cell_type": "markdown",
   "metadata": {},
   "source": [
    "### Combine product listings with base url to get complete list of product urls"
   ]
  },
  {
   "cell_type": "code",
   "execution_count": 28,
   "metadata": {
    "collapsed": false
   },
   "outputs": [
    {
     "name": "stdout",
     "output_type": "stream",
     "text": [
      "['http://www.petsmart.com/cat/food-and-health/food/fancy-feast-classic-adult-cat-food-12865.html?cgid=200004', 'http://www.petsmart.com/cat/food-and-health/food/purina-friskies-classic-pate-cat-food-1610.html?cgid=200004', 'http://www.petsmart.com/cat/food-and-health/food/purina-friskies-savory-shreds-cat-food-1547.html?cgid=200004', 'http://www.petsmart.com/cat/food-and-health/food/fancy-feast-grilled-adult-cat-food-12855.html?cgid=200004', 'http://www.petsmart.com/cat/food-and-health/food/authority-pate-adult-cat-food-23731.html?cgid=200004', 'http://www.petsmart.com/cat/food-and-health/food/fancy-feast-gravy-lovers-adult-cat-food-12853.html?cgid=200004', 'http://www.petsmart.com/cat/food-and-health/food/purina-pro-plan-adult-cat-food-12804.html?cgid=200004', 'http://www.petsmart.com/cat/food-and-health/food/purina-friskies-prime-filets-cat-food-1510.html?cgid=200004', 'http://www.petsmart.com/cat/food-and-health/food/wellness-complete-health-cat-food---natural-grain-free-12917.html?cgid=200004', 'http://www.petsmart.com/cat/food-and-health/food/authority-indoor-adult-cat-food---chicken-and-rice-26335.html?cgid=200004', 'http://www.petsmart.com/cat/food-and-health/food/fancy-feast-flaked-adult-cat-food-12861.html?cgid=200004', 'http://www.petsmart.com/cat/food-and-health/food/authority-adult-cat-food---flaked-23729.html?cgid=200004', 'http://www.petsmart.com/cat/food-and-health/food/purely-fancy-feast-adult-cat-food-3111.html?cgid=200004', 'http://www.petsmart.com/cat/food-and-health/food/blue-wilderness-indoor-adult-cat-food---grain-free-natural-chicken-317.html?cgid=200004', 'http://www.petsmart.com/cat/food-and-health/food/nutro-max-cat-adult-cat-food-12892.html?cgid=200004', 'http://www.petsmart.com/cat/food-and-health/food/purina-friskies-classic-pate-cat-food-1609.html?cgid=200004', 'http://www.petsmart.com/cat/food-and-health/food/fancy-feast-grilled-delights-cat-food-12859.html?cgid=200004', 'http://www.petsmart.com/cat/food-and-health/food/fancy-feast-classic-broths-cat-food-26823.html?cgid=200004', 'http://www.petsmart.com/cat/food-and-health/food/grreat-choice-pate-adult-cat-food-12869.html?cgid=200004', 'http://www.petsmart.com/cat/food-and-health/food/fancy-feast-medleys-florentine-adult-cat-food-12849.html?cgid=200004', 'http://www.petsmart.com/cat/food-and-health/food/fancy-feast-medleys-primavera-adult-cat-food-12852.html?cgid=200004', 'http://www.petsmart.com/cat/food-and-health/food/purina-friskies-tasty-treasures-cat-food-1578.html?cgid=200004', 'http://www.petsmart.com/cat/food-and-health/food/blue-wilderness-adult-cat-food---grain-free-natural-chicken-332.html?cgid=200004', 'http://www.petsmart.com/cat/food-and-health/food/fancy-feast-medleys-shredded-adult-cat-food-12851.html?cgid=200004', 'http://www.petsmart.com/cat/food-and-health/food/purina-friskies-indoor-cat-food-1517.html?cgid=200004', 'http://www.petsmart.com/cat/food-and-health/food/purina-friskies-tasty-treasures-pate-cat-food-1594.html?cgid=200004', 'http://www.petsmart.com/cat/food-and-health/food/fancy-feast-chunky-adult-cat-food-12858.html?cgid=200004', 'http://www.petsmart.com/cat/food-and-health/food/purina-friskies-meaty-bits-cat-food-1601.html?cgid=200004', 'http://www.petsmart.com/cat/food-and-health/food/blue-wilderness-adult-cat-food---grain-free-natural-salmon-557.html?cgid=200004', 'http://www.petsmart.com/cat/food-and-health/food/fancy-feast-marinated-morsels-adult-cat-food-12860.html?cgid=200004', 'http://www.petsmart.com/cat/food-and-health/food/purina-cat-chow-complete-formula-cat-food-2367.html?cgid=200004', 'http://www.petsmart.com/cat/food-and-health/food/purina-pro-plan-adult-cat-food-12807.html?cgid=200004', 'http://www.petsmart.com/cat/food-and-health/food/wellness-minced-cat-food---natural-grain-free-12908.html?cgid=200004', 'http://www.petsmart.com/cat/food-and-health/food/nutro-natural-choice-sliced-adult-cat-food-12895.html?cgid=200004', 'http://www.petsmart.com/cat/food-and-health/food/fancy-feast-medleys-tuscan-inspired-adult-cat-food-12850.html?cgid=200004', 'http://www.petsmart.com/cat/food-and-health/food/fancy-feast-creamy-broths-cat-food-26824.html?cgid=200004', 'http://www.petsmart.com/cat/food-and-health/food/fancy-feast-medleys-tastemakers-cat-food-18355.html?cgid=200004', 'http://www.petsmart.com/cat/food-and-health/food/authority-hairball-control-and-weight-management-adult-cat-food-26336.html?cgid=200004', 'http://www.petsmart.com/cat/food-and-health/food/sheba-premium-pate-adult-cat-food-12878.html?cgid=200004', 'http://www.petsmart.com/cat/food-and-health/food/blueandtradeindoor-health-adult-cat-food---chicken-and-brown-rice-366.html?cgid=200004', 'http://www.petsmart.com/cat/food-and-health/food/iams-purrfect-delight-cat-food-20920.html?cgid=200004', 'http://www.petsmart.com/cat/food-and-health/food/simply-nourishandtrade-adult-cat-food---natural-chicken-and-rice-357.html?cgid=200004', 'http://www.petsmart.com/cat/food-and-health/food/blue-wilderness-grain-free-duck-adult-cat-food-331.html?cgid=200004', 'http://www.petsmart.com/cat/food-and-health/food/purina-friskies-flaked-cat-food-1538.html?cgid=200004', 'http://www.petsmart.com/cat/food-and-health/food/royal-canin-feline-health-nutritionandtrade-indoor-adult-27-cat-food-1188.html?cgid=200004', 'http://www.petsmart.com/cat/food-and-health/food/blueandtrade-sensitive-stomach-adult-cat-food-329.html?cgid=200004', 'http://www.petsmart.com/cat/food-and-health/food/purina-friskies-saucesations-cat-food-20965.html?cgid=200004', 'http://www.petsmart.com/cat/food-and-health/food/iams-proactive-health-pate-adult-cat-food-12831.html?cgid=200004', 'http://www.petsmart.com/cat/food-and-health/food/purina-pro-plan-savor-adult-cat-food-21002.html?cgid=200004', 'http://www.petsmart.com/cat/food-and-health/food/purina-pro-plan-adult-cat-food---chicken-tuna-and-wild-rice-30077.html?cgid=200004']\n"
     ]
    }
   ],
   "source": [
    "full_product_list = ['{}{}'.format(constants.new_crawler_base_url, url) for url in link_list]\n",
    "print full_product_list[0:50]"
   ]
  },
  {
   "cell_type": "markdown",
   "metadata": {},
   "source": [
    "### Write the list to a file in case I get blocked from the website later"
   ]
  },
  {
   "cell_type": "code",
   "execution_count": 29,
   "metadata": {
    "collapsed": false
   },
   "outputs": [],
   "source": [
    "def write_file(list):\n",
    "    ### Write the list to a file as a record in case I get blocked from the website later\n",
    "    filename = 'catfood_url.txt'\n",
    "    fh = open(filename, 'a')\n",
    "    fh.write(str(full_product_list)) \n",
    "    fh.close()\n",
    "\n",
    "write_file(full_product_list)"
   ]
  }
 ],
 "metadata": {
  "anaconda-cloud": {},
  "kernelspec": {
   "display_name": "Python [default]",
   "language": "python",
   "name": "python2"
  },
  "language_info": {
   "codemirror_mode": {
    "name": "ipython",
    "version": 2
   },
   "file_extension": ".py",
   "mimetype": "text/x-python",
   "name": "python",
   "nbconvert_exporter": "python",
   "pygments_lexer": "ipython2",
   "version": "2.7.12"
  }
 },
 "nbformat": 4,
 "nbformat_minor": 1
}
